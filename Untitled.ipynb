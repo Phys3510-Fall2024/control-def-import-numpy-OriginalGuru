{
 "cells": [
  {
   "cell_type": "code",
   "execution_count": 8,
   "id": "e6e92b0d-9382-4be7-b487-3b931e804946",
   "metadata": {},
   "outputs": [],
   "source": [
    "import numpy as np\n",
    "a = np.array([1, 0, 0])\n",
    "b = np.array([0, 1, 0])\n",
    "c = np.array([0, 0, 1])\n",
    "\n",
    "inversion = -1*np.eye(3,3)\n",
    "m_z = np.array([[1,0,0],[0,1,0],[0,0,-1]])\n",
    "m_x = np.array([[-1,0,0],[0,1,0],[0,0,1]])\n",
    "rot_y_180 = np.array([[1,0,0],[0,-1,0],[0,0,-1]])"
   ]
  },
  {
   "cell_type": "code",
   "execution_count": 13,
   "id": "4495f4f1-9425-4d92-b476-ce493d39fad3",
   "metadata": {},
   "outputs": [
    {
     "name": "stdout",
     "output_type": "stream",
     "text": [
      "1.0\n",
      "1\n"
     ]
    }
   ],
   "source": [
    "print(np.dot(inversion @ c, inversion @ c))\n",
    "print(np.dot(m_z @ c, m_z @ c))"
   ]
  },
  {
   "cell_type": "code",
   "execution_count": null,
   "id": "84166321-e1ac-4c80-95ee-11e23d94a83c",
   "metadata": {},
   "outputs": [],
   "source": []
  }
 ],
 "metadata": {
  "kernelspec": {
   "display_name": "Python 3 (ipykernel)",
   "language": "python",
   "name": "python3"
  },
  "language_info": {
   "codemirror_mode": {
    "name": "ipython",
    "version": 3
   },
   "file_extension": ".py",
   "mimetype": "text/x-python",
   "name": "python",
   "nbconvert_exporter": "python",
   "pygments_lexer": "ipython3",
   "version": "3.9.19"
  }
 },
 "nbformat": 4,
 "nbformat_minor": 5
}
