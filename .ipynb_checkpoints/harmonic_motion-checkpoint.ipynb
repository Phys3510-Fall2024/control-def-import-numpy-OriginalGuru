{
 "cells": [
  {
   "cell_type": "markdown",
   "id": "9294cc7d-494b-48d9-8e49-04d794a4c7af",
   "metadata": {},
   "source": [
    "## Simple harmonic motion\n",
    "\n",
    "This function will output the position and velocity of a spring-mass system at any time. There is no damping included in this description.\n",
    "\n",
    "The important equations are:\n",
    "\n",
    "* The potential energy: $U = \\frac{1}{2}kx^2$  \n",
    "* The force: $F = - k x = m a = m \\ddot{x}$  \n",
    "\n",
    "Here $x$ is the position of the particle, $k$ is the force/spring constant (local curvature of the potential), and $m$ is the mass.\n",
    "\n",
    "From this, we derived the following equations for the position, $x$, and velocity, $v$.\n",
    "\n",
    "* $x(t) = x_0 cos(\\omega t) + \\frac{v_0}{\\omega}sin(\\omega t)$\n",
    "* $v(t) = - x_0 \\omega sin(\\omega t) + v_0 cos(\\omega t)$\n",
    "\n",
    "***Caveat Emptor: a choice of units has not been made; the frequency, $\\omega$ is an input, not calculated from $k$ and $m$.***"
   ]
  },
  {
   "cell_type": "code",
   "execution_count": null,
   "id": "4b36931f-5ab4-4ff3-b104-0a28e88307d0",
   "metadata": {},
   "outputs": [],
   "source": [
    "# import the math library\n",
    "import math\n",
    "#print(dir(math))\n",
    "\n",
    "# define our harmonic motion function\n",
    "def harmonic_motion(time, omega, x0, v0):\n",
    "    \"\"\"\n",
    "    This function outputs the position and velocity of a harmonic oscillator (simple spring-mass system) at a desired time. \n",
    "    \n",
    "    Notes:\n",
    "    This function requires the use of the math module (`import math`)\n",
    "    \n",
    "    Input:\n",
    "    time  : time [units to be determined]\n",
    "    omega : resonant frequency (omega = math.sqrt(k/m)) [units to be determined]\n",
    "    x0    : the initial position [units to be determined]\n",
    "    v0    : initial velocity [units to be determined]\n",
    "\n",
    "    Output/Return:\n",
    "    position : position at time t\n",
    "    velocity : velocity at time t\n",
    "    \"\"\"\n",
    "    # position as a function of time\n",
    "    position = x0 * math.cos(omega * time) + (v0/omega) * math.sin(omega * time)\n",
    "\n",
    "    # velocity as a function of time\n",
    "    velocity = - omega * x0 * math.sin(omega * time) + v0 * math.cos(omega * time)\n",
    "    \n",
    "    return position, velocity"
   ]
  },
  {
   "cell_type": "markdown",
   "id": "d2c64b2a-2445-4e65-9060-676a5d4d7bc5",
   "metadata": {},
   "source": [
    "## Testing our function\n",
    "\n",
    "We still need to check that things are working correctly.\n",
    "\n",
    "As a starting point to this process, we discussed checking the following times:\n",
    "\n",
    "* the position and velocity should be unchanged when $t = \\frac{2n \\pi}{\\omega}$\n",
    "* the position and velocity should be negative when $t = \\frac{n \\pi}{\\omega}$"
   ]
  },
  {
   "cell_type": "code",
   "execution_count": null,
   "id": "c01041fd-30d7-47ff-8ced-406a3b1ae6bd",
   "metadata": {},
   "outputs": [],
   "source": [
    "# basic test of our function\n",
    "time = 0 # time [units to be determined]\n",
    "omega = 1 # units to be determined\n",
    "initial_position = 3.1 # units to be determined\n",
    "initial_velocity = 2.0 # units to be determined\n",
    "position, velocity = harmonic_motion(time, omega, initial_position, initial_velocity)\n",
    "print(f\"The position at {time} [time units] is : {position} [position units]\")\n",
    "print(f\"The position at {time} [time units] is : {position} [velocity units]\")"
   ]
  },
  {
   "cell_type": "code",
   "execution_count": null,
   "id": "8fc53faa-2fd1-4afa-9b07-c9c063ba9c61",
   "metadata": {},
   "outputs": [],
   "source": [
    "# use a list and loop to test our function\n",
    "integer_list = [-4, -3, -2, -1, 0, 1, 2, 3, 4] # some integers for our loop\n",
    "\n",
    "# define our starting values for position and velocity, and the frequency\n",
    "omega = 1 # units to be determined\n",
    "initial_position = 3.1 # units to be determined\n",
    "initial_velocity = 2.0 # units to be determined\n",
    "\n",
    "# loop over integers and check full trip and half trip periodic motion\n",
    "for ii in integer_list:\n",
    "    half_periods = math.pi * ii # integer multiples of the half-period\n",
    "    half_period_position, half_trip_velocity = harmonic_motion(half_periods, omega, initial_position, initial_velocity) # function call\n",
    "    print(f\"After {ii} half-periods the position is  {half_trip_position:.5f}, and the velocity is {half_trip_velocity:.5f}\") # formatted output\n"
   ]
  },
  {
   "cell_type": "markdown",
   "id": "f5b809e4-2994-4c5e-b22f-8b62bd3f0fcf",
   "metadata": {},
   "source": [
    "## Accessing the block-quote we added to our function"
   ]
  },
  {
   "cell_type": "code",
   "execution_count": null,
   "id": "d6e0fc51-4518-4f4c-b154-63e95621709c",
   "metadata": {},
   "outputs": [],
   "source": [
    "print(harmonic_motion.__doc__)"
   ]
  },
  {
   "cell_type": "code",
   "execution_count": null,
   "id": "d1a200ad-3f8d-459b-918e-796f10bdcaae",
   "metadata": {},
   "outputs": [],
   "source": []
  },
  {
   "cell_type": "code",
   "execution_count": null,
   "id": "37e8506d-b02e-4cb7-9559-27df5f2920c0",
   "metadata": {},
   "outputs": [],
   "source": []
  }
 ],
 "metadata": {
  "kernelspec": {
   "display_name": "Python 3 (ipykernel)",
   "language": "python",
   "name": "python3"
  },
  "language_info": {
   "codemirror_mode": {
    "name": "ipython",
    "version": 3
   },
   "file_extension": ".py",
   "mimetype": "text/x-python",
   "name": "python",
   "nbconvert_exporter": "python",
   "pygments_lexer": "ipython3",
   "version": "3.9.19"
  }
 },
 "nbformat": 4,
 "nbformat_minor": 5
}
